{
 "cells": [
  {
   "cell_type": "code",
   "execution_count": 1,
   "id": "a5699e57",
   "metadata": {},
   "outputs": [],
   "source": [
    "#pip install BeautifulSoup4"
   ]
  },
  {
   "cell_type": "code",
   "execution_count": 2,
   "id": "3ae9e4d1",
   "metadata": {},
   "outputs": [],
   "source": [
    "from bs4 import BeautifulSoup\n",
    "import requests\n",
    "import pandas as pd\n",
    "import numpy as np\n",
    "import csv\n",
    "import os"
   ]
  },
  {
   "cell_type": "code",
   "execution_count": 3,
   "id": "ce1bd514",
   "metadata": {},
   "outputs": [],
   "source": [
    "data = {\n",
    "    'name': [],\n",
    "    'data of birth': [],\n",
    "    'height': [],\n",
    "    'foot': [],\n",
    "    'joined': [],\n",
    "    'contract until': [],\n",
    "}"
   ]
  },
  {
   "cell_type": "code",
   "execution_count": 4,
   "id": "2675eff9",
   "metadata": {},
   "outputs": [],
   "source": [
    "headers = {\n",
    "  'User-Agent': 'Mozilla/5.0 (X11; Linux x86_64) AppleWebKit/537.36 (KHTML, like Gecko) Chrome/47.0.2526.106 Safari/537.36'\n",
    "}\n",
    "\n",
    "url = \"https://www.transfermarkt.pl/ac-milan/kader/verein/5/saison_id/2022/plus/1\"\n",
    "response = requests.get(url, headers=headers)\n",
    "soup = BeautifulSoup(response.content, 'html.parser')"
   ]
  },
  {
   "cell_type": "code",
   "execution_count": 5,
   "id": "4a1f50ba",
   "metadata": {},
   "outputs": [],
   "source": [
    "all_tr = soup.find_all('tr', {'class': ['odd', 'even']})"
   ]
  },
  {
   "cell_type": "code",
   "execution_count": 6,
   "id": "58ac9222",
   "metadata": {},
   "outputs": [],
   "source": [
    "td_element = soup.find_all('td', {'class': ['zentriert']})"
   ]
  },
  {
   "cell_type": "code",
   "execution_count": 7,
   "id": "4bd58d64",
   "metadata": {},
   "outputs": [],
   "source": [
    "club_name = soup.find_all('div', {'class': ['data-header__profile-container']})[0].find('img')['title']"
   ]
  },
  {
   "cell_type": "code",
   "execution_count": 8,
   "id": "ab1f22e5",
   "metadata": {},
   "outputs": [],
   "source": [
    "countries = []\n",
    "for i in range(len(td_element)):\n",
    "    if td_element[i].find('img', {'class': 'flaggenrahmen'}) is None:\n",
    "        continue\n",
    "    \n",
    "    if len(td_element[i].find_all('img', {'class': 'flaggenrahmen'})) == 2:\n",
    "        countries.append(td_element[i].find_all('img', {'class': 'flaggenrahmen'})[0]['title'] \n",
    "                         + \" / \" + td_element[i].find_all('img', {'class': 'flaggenrahmen'})[1]['title'])\n",
    "    else:\n",
    "        countries.append(td_element[i].find('img')['title'])\n",
    "\n",
    "        "
   ]
  },
  {
   "cell_type": "code",
   "execution_count": 9,
   "id": "c760a676",
   "metadata": {},
   "outputs": [],
   "source": [
    "for row in all_tr:\n",
    "    all_td = row.find_all('td', recursive=False)\n",
    "    data['name'].append( all_td[1].text.split('.')[0][:-1] )\n",
    "    data['data of birth'].append( all_td[2].text[:-5] )\n",
    "    data['height'].append( all_td[4].text )\n",
    "    data['foot'].append( all_td[5].text )\n",
    "    data['joined'].append( all_td[6].text )\n",
    "    data['contract until'].append( all_td[8].text )\n",
    "\n",
    "df = pd.DataFrame(data)"
   ]
  },
  {
   "cell_type": "code",
   "execution_count": 10,
   "id": "0b4269e6",
   "metadata": {},
   "outputs": [
    {
     "data": {
      "text/html": [
       "<div>\n",
       "<style scoped>\n",
       "    .dataframe tbody tr th:only-of-type {\n",
       "        vertical-align: middle;\n",
       "    }\n",
       "\n",
       "    .dataframe tbody tr th {\n",
       "        vertical-align: top;\n",
       "    }\n",
       "\n",
       "    .dataframe thead th {\n",
       "        text-align: right;\n",
       "    }\n",
       "</style>\n",
       "<table border=\"1\" class=\"dataframe\">\n",
       "  <thead>\n",
       "    <tr style=\"text-align: right;\">\n",
       "      <th></th>\n",
       "      <th>name</th>\n",
       "      <th>data of birth</th>\n",
       "      <th>height</th>\n",
       "      <th>foot</th>\n",
       "      <th>joined</th>\n",
       "      <th>contract until</th>\n",
       "    </tr>\n",
       "  </thead>\n",
       "  <tbody>\n",
       "    <tr>\n",
       "      <th>0</th>\n",
       "      <td>\\n\\n\\n\\n \\n\\n\\n                Mike Maignan   ...</td>\n",
       "      <td>3 lip 1995</td>\n",
       "      <td>1,91m</td>\n",
       "      <td>prawonożny</td>\n",
       "      <td>1 lip 2021</td>\n",
       "      <td>30 cze 2026</td>\n",
       "    </tr>\n",
       "    <tr>\n",
       "      <th>1</th>\n",
       "      <td>\\n\\n\\n\\n \\n\\n\\n                Ciprian Tatarus...</td>\n",
       "      <td>9 lut 1986</td>\n",
       "      <td>1,98m</td>\n",
       "      <td>prawonożny</td>\n",
       "      <td>11 wrz 2020</td>\n",
       "      <td>30 cze 2023</td>\n",
       "    </tr>\n",
       "    <tr>\n",
       "      <th>2</th>\n",
       "      <td>\\n\\n\\n\\n \\n\\n\\n                Devis Vásquez  ...</td>\n",
       "      <td>12 maj 1998</td>\n",
       "      <td>1,95m</td>\n",
       "      <td>prawonożny</td>\n",
       "      <td>3 sty 2023</td>\n",
       "      <td>30 cze 2026</td>\n",
       "    </tr>\n",
       "    <tr>\n",
       "      <th>3</th>\n",
       "      <td>\\n\\n\\n\\n \\n\\n\\n                Antonio Mirante...</td>\n",
       "      <td>8 lip 1983</td>\n",
       "      <td>1,93m</td>\n",
       "      <td>prawonożny</td>\n",
       "      <td>13 paź 2021</td>\n",
       "      <td>30 cze 2023</td>\n",
       "    </tr>\n",
       "    <tr>\n",
       "      <th>4</th>\n",
       "      <td>\\n\\n\\n\\n \\n\\n\\n                Fikayo Tomori  ...</td>\n",
       "      <td>19 gru 1997</td>\n",
       "      <td>1,85m</td>\n",
       "      <td>prawonożny</td>\n",
       "      <td>1 lip 2021</td>\n",
       "      <td>30 cze 2027</td>\n",
       "    </tr>\n",
       "    <tr>\n",
       "      <th>5</th>\n",
       "      <td>\\n\\n\\n\\n \\n\\n\\n                Pierre Kalulu  ...</td>\n",
       "      <td>5 cze 2000</td>\n",
       "      <td>1,82m</td>\n",
       "      <td>prawonożny</td>\n",
       "      <td>1 wrz 2020</td>\n",
       "      <td>30 cze 2027</td>\n",
       "    </tr>\n",
       "    <tr>\n",
       "      <th>6</th>\n",
       "      <td>\\n\\n\\n\\n \\n\\n\\n                Malick Thiaw   ...</td>\n",
       "      <td>8 sie 2001</td>\n",
       "      <td>1,94m</td>\n",
       "      <td>prawonożny</td>\n",
       "      <td>29 sie 2022</td>\n",
       "      <td>30 cze 2027</td>\n",
       "    </tr>\n",
       "    <tr>\n",
       "      <th>7</th>\n",
       "      <td>\\n\\n\\n\\n \\n\\n\\n                Matteo Gabbia  ...</td>\n",
       "      <td>21 paź 1999</td>\n",
       "      <td>1,85m</td>\n",
       "      <td>prawonożny</td>\n",
       "      <td>1 lip 2017</td>\n",
       "      <td>30 cze 2026</td>\n",
       "    </tr>\n",
       "    <tr>\n",
       "      <th>8</th>\n",
       "      <td>\\n\\n\\n\\n \\n\\n\\n                Simon Kjaer    ...</td>\n",
       "      <td>26 mar 1989</td>\n",
       "      <td>1,91m</td>\n",
       "      <td>prawonożny</td>\n",
       "      <td>1 wrz 2020</td>\n",
       "      <td>30 cze 2024</td>\n",
       "    </tr>\n",
       "    <tr>\n",
       "      <th>9</th>\n",
       "      <td>\\n\\n\\n\\n \\n\\n\\n                Theo Hernández ...</td>\n",
       "      <td>6 paź 1997</td>\n",
       "      <td>1,84m</td>\n",
       "      <td>lewonożny</td>\n",
       "      <td>6 lip 2019</td>\n",
       "      <td>30 cze 2026</td>\n",
       "    </tr>\n",
       "    <tr>\n",
       "      <th>10</th>\n",
       "      <td>\\n\\n\\n\\n \\n\\n\\n                Fodé Ballo-Tour...</td>\n",
       "      <td>3 sty 1997</td>\n",
       "      <td>1,82m</td>\n",
       "      <td>lewonożny</td>\n",
       "      <td>18 lip 2021</td>\n",
       "      <td>30 cze 2025</td>\n",
       "    </tr>\n",
       "    <tr>\n",
       "      <th>11</th>\n",
       "      <td>\\n\\n\\n\\n \\n\\n\\n                Davide Calabria...</td>\n",
       "      <td>6 gru 1996</td>\n",
       "      <td>1,76m</td>\n",
       "      <td>prawonożny</td>\n",
       "      <td>1 lip 2015</td>\n",
       "      <td>30 cze 2025</td>\n",
       "    </tr>\n",
       "    <tr>\n",
       "      <th>12</th>\n",
       "      <td>\\n\\n\\n\\n \\n\\n\\n                Sergiño Dest   ...</td>\n",
       "      <td>3 lis 2000</td>\n",
       "      <td>1,71m</td>\n",
       "      <td>prawonożny</td>\n",
       "      <td>1 wrz 2022</td>\n",
       "      <td>30 cze 2023</td>\n",
       "    </tr>\n",
       "    <tr>\n",
       "      <th>13</th>\n",
       "      <td>\\n\\n\\n\\n \\n\\n\\n                Alessandro Flor...</td>\n",
       "      <td>11 mar 1991</td>\n",
       "      <td>1,73m</td>\n",
       "      <td>prawonożny</td>\n",
       "      <td>1 lip 2022</td>\n",
       "      <td>30 cze 2025</td>\n",
       "    </tr>\n",
       "    <tr>\n",
       "      <th>14</th>\n",
       "      <td>\\n\\n\\n\\n \\n\\n\\n                Sandro Tonali  ...</td>\n",
       "      <td>8 maj 2000</td>\n",
       "      <td>1,81m</td>\n",
       "      <td>prawonożny</td>\n",
       "      <td>8 lip 2021</td>\n",
       "      <td>30 cze 2027</td>\n",
       "    </tr>\n",
       "    <tr>\n",
       "      <th>15</th>\n",
       "      <td>\\n\\n\\n\\n \\n\\n\\n                Ismaël Bennacer...</td>\n",
       "      <td>1 gru 1997</td>\n",
       "      <td>1,75m</td>\n",
       "      <td>lewonożny</td>\n",
       "      <td>4 sie 2019</td>\n",
       "      <td>30 cze 2027</td>\n",
       "    </tr>\n",
       "    <tr>\n",
       "      <th>16</th>\n",
       "      <td>\\n\\n\\n\\n \\n\\n\\n                Tiemoué Bakayok...</td>\n",
       "      <td>17 sie 1994</td>\n",
       "      <td>1,89m</td>\n",
       "      <td>prawonożny</td>\n",
       "      <td>30 sie 2021</td>\n",
       "      <td>30 cze 2023</td>\n",
       "    </tr>\n",
       "    <tr>\n",
       "      <th>17</th>\n",
       "      <td>\\n\\n\\n\\n \\n\\n\\n                Tommaso Pobega ...</td>\n",
       "      <td>15 lip 1999</td>\n",
       "      <td>1,88m</td>\n",
       "      <td>obunożny</td>\n",
       "      <td>1 lip 2018</td>\n",
       "      <td>30 cze 2027</td>\n",
       "    </tr>\n",
       "    <tr>\n",
       "      <th>18</th>\n",
       "      <td>\\n\\n\\n\\n \\n\\n\\n                Rade Krunic    ...</td>\n",
       "      <td>7 paź 1993</td>\n",
       "      <td>1,84m</td>\n",
       "      <td>prawonożny</td>\n",
       "      <td>8 lip 2019</td>\n",
       "      <td>30 cze 2025</td>\n",
       "    </tr>\n",
       "    <tr>\n",
       "      <th>19</th>\n",
       "      <td>\\n\\n\\n\\n \\n\\n\\n                Aster Vranckx  ...</td>\n",
       "      <td>4 paź 2002</td>\n",
       "      <td>1,83m</td>\n",
       "      <td>prawonożny</td>\n",
       "      <td>1 wrz 2022</td>\n",
       "      <td>30 cze 2023</td>\n",
       "    </tr>\n",
       "    <tr>\n",
       "      <th>20</th>\n",
       "      <td>\\n\\n\\n\\n \\n\\n\\n                Charles De Kete...</td>\n",
       "      <td>10 mar 2001</td>\n",
       "      <td>1,92m</td>\n",
       "      <td>lewonożny</td>\n",
       "      <td>2 sie 2022</td>\n",
       "      <td>30 cze 2027</td>\n",
       "    </tr>\n",
       "    <tr>\n",
       "      <th>21</th>\n",
       "      <td>\\n\\n\\n\\n \\n\\n\\n                Brahim Díaz    ...</td>\n",
       "      <td>3 sie 1999</td>\n",
       "      <td>1,71m</td>\n",
       "      <td>obunożny</td>\n",
       "      <td>19 lip 2021</td>\n",
       "      <td>30 cze 2023</td>\n",
       "    </tr>\n",
       "    <tr>\n",
       "      <th>22</th>\n",
       "      <td>\\n\\n\\n\\n \\n\\n\\n                Yacine Adli    ...</td>\n",
       "      <td>29 lip 2000</td>\n",
       "      <td>1,86m</td>\n",
       "      <td>prawonożny</td>\n",
       "      <td>30 sie 2021</td>\n",
       "      <td>30 cze 2026</td>\n",
       "    </tr>\n",
       "    <tr>\n",
       "      <th>23</th>\n",
       "      <td>\\n\\n\\n\\n \\n\\n\\n                Rafael Leão    ...</td>\n",
       "      <td>10 cze 1999</td>\n",
       "      <td>1,88m</td>\n",
       "      <td>prawonożny</td>\n",
       "      <td>1 sie 2019</td>\n",
       "      <td>30 cze 2024</td>\n",
       "    </tr>\n",
       "    <tr>\n",
       "      <th>24</th>\n",
       "      <td>\\n\\n\\n\\n \\n\\n\\n                Ante Rebic     ...</td>\n",
       "      <td>21 wrz 1993</td>\n",
       "      <td>1,85m</td>\n",
       "      <td>prawonożny</td>\n",
       "      <td>12 wrz 2020</td>\n",
       "      <td>30 cze 2025</td>\n",
       "    </tr>\n",
       "    <tr>\n",
       "      <th>25</th>\n",
       "      <td>\\n\\n\\n\\n \\n\\n\\n                Alexis Saelemae...</td>\n",
       "      <td>27 cze 1999</td>\n",
       "      <td>1,80m</td>\n",
       "      <td>prawonożny</td>\n",
       "      <td>1 wrz 2020</td>\n",
       "      <td>30 cze 2026</td>\n",
       "    </tr>\n",
       "    <tr>\n",
       "      <th>26</th>\n",
       "      <td>\\n\\n\\n\\n \\n\\n\\n                Junior Messias ...</td>\n",
       "      <td>13 maj 1991</td>\n",
       "      <td>1,74m</td>\n",
       "      <td>lewonożny</td>\n",
       "      <td>7 lip 2022</td>\n",
       "      <td>30 cze 2024</td>\n",
       "    </tr>\n",
       "    <tr>\n",
       "      <th>27</th>\n",
       "      <td>\\n\\n\\n\\n \\n\\n\\n                Divock Origi   ...</td>\n",
       "      <td>18 kwi 1995</td>\n",
       "      <td>1,89m</td>\n",
       "      <td>prawonożny</td>\n",
       "      <td>5 lip 2022</td>\n",
       "      <td>30 cze 2026</td>\n",
       "    </tr>\n",
       "    <tr>\n",
       "      <th>28</th>\n",
       "      <td>\\n\\n\\n\\n \\n\\n\\n                Olivier Giroud ...</td>\n",
       "      <td>30 wrz 1986</td>\n",
       "      <td>1,92m</td>\n",
       "      <td>lewonożny</td>\n",
       "      <td>17 lip 2021</td>\n",
       "      <td>30 cze 2024</td>\n",
       "    </tr>\n",
       "    <tr>\n",
       "      <th>29</th>\n",
       "      <td>\\n\\n\\n\\n \\n\\n\\n                Zlatan Ibrahimo...</td>\n",
       "      <td>3 paź 1981</td>\n",
       "      <td>1,95m</td>\n",
       "      <td>prawonożny</td>\n",
       "      <td>2 sty 2020</td>\n",
       "      <td>30 cze 2023</td>\n",
       "    </tr>\n",
       "  </tbody>\n",
       "</table>\n",
       "</div>"
      ],
      "text/plain": [
       "                                                 name data of birth height  \\\n",
       "0   \\n\\n\\n\\n \\n\\n\\n                Mike Maignan   ...    3 lip 1995  1,91m   \n",
       "1   \\n\\n\\n\\n \\n\\n\\n                Ciprian Tatarus...    9 lut 1986  1,98m   \n",
       "2   \\n\\n\\n\\n \\n\\n\\n                Devis Vásquez  ...   12 maj 1998  1,95m   \n",
       "3   \\n\\n\\n\\n \\n\\n\\n                Antonio Mirante...    8 lip 1983  1,93m   \n",
       "4   \\n\\n\\n\\n \\n\\n\\n                Fikayo Tomori  ...   19 gru 1997  1,85m   \n",
       "5   \\n\\n\\n\\n \\n\\n\\n                Pierre Kalulu  ...    5 cze 2000  1,82m   \n",
       "6   \\n\\n\\n\\n \\n\\n\\n                Malick Thiaw   ...    8 sie 2001  1,94m   \n",
       "7   \\n\\n\\n\\n \\n\\n\\n                Matteo Gabbia  ...   21 paź 1999  1,85m   \n",
       "8   \\n\\n\\n\\n \\n\\n\\n                Simon Kjaer    ...   26 mar 1989  1,91m   \n",
       "9   \\n\\n\\n\\n \\n\\n\\n                Theo Hernández ...    6 paź 1997  1,84m   \n",
       "10  \\n\\n\\n\\n \\n\\n\\n                Fodé Ballo-Tour...    3 sty 1997  1,82m   \n",
       "11  \\n\\n\\n\\n \\n\\n\\n                Davide Calabria...    6 gru 1996  1,76m   \n",
       "12  \\n\\n\\n\\n \\n\\n\\n                Sergiño Dest   ...    3 lis 2000  1,71m   \n",
       "13  \\n\\n\\n\\n \\n\\n\\n                Alessandro Flor...   11 mar 1991  1,73m   \n",
       "14  \\n\\n\\n\\n \\n\\n\\n                Sandro Tonali  ...    8 maj 2000  1,81m   \n",
       "15  \\n\\n\\n\\n \\n\\n\\n                Ismaël Bennacer...    1 gru 1997  1,75m   \n",
       "16  \\n\\n\\n\\n \\n\\n\\n                Tiemoué Bakayok...   17 sie 1994  1,89m   \n",
       "17  \\n\\n\\n\\n \\n\\n\\n                Tommaso Pobega ...   15 lip 1999  1,88m   \n",
       "18  \\n\\n\\n\\n \\n\\n\\n                Rade Krunic    ...    7 paź 1993  1,84m   \n",
       "19  \\n\\n\\n\\n \\n\\n\\n                Aster Vranckx  ...    4 paź 2002  1,83m   \n",
       "20  \\n\\n\\n\\n \\n\\n\\n                Charles De Kete...   10 mar 2001  1,92m   \n",
       "21  \\n\\n\\n\\n \\n\\n\\n                Brahim Díaz    ...    3 sie 1999  1,71m   \n",
       "22  \\n\\n\\n\\n \\n\\n\\n                Yacine Adli    ...   29 lip 2000  1,86m   \n",
       "23  \\n\\n\\n\\n \\n\\n\\n                Rafael Leão    ...   10 cze 1999  1,88m   \n",
       "24  \\n\\n\\n\\n \\n\\n\\n                Ante Rebic     ...   21 wrz 1993  1,85m   \n",
       "25  \\n\\n\\n\\n \\n\\n\\n                Alexis Saelemae...   27 cze 1999  1,80m   \n",
       "26  \\n\\n\\n\\n \\n\\n\\n                Junior Messias ...   13 maj 1991  1,74m   \n",
       "27  \\n\\n\\n\\n \\n\\n\\n                Divock Origi   ...   18 kwi 1995  1,89m   \n",
       "28  \\n\\n\\n\\n \\n\\n\\n                Olivier Giroud ...   30 wrz 1986  1,92m   \n",
       "29  \\n\\n\\n\\n \\n\\n\\n                Zlatan Ibrahimo...    3 paź 1981  1,95m   \n",
       "\n",
       "          foot       joined contract until  \n",
       "0   prawonożny   1 lip 2021    30 cze 2026  \n",
       "1   prawonożny  11 wrz 2020    30 cze 2023  \n",
       "2   prawonożny   3 sty 2023    30 cze 2026  \n",
       "3   prawonożny  13 paź 2021    30 cze 2023  \n",
       "4   prawonożny   1 lip 2021    30 cze 2027  \n",
       "5   prawonożny   1 wrz 2020    30 cze 2027  \n",
       "6   prawonożny  29 sie 2022    30 cze 2027  \n",
       "7   prawonożny   1 lip 2017    30 cze 2026  \n",
       "8   prawonożny   1 wrz 2020    30 cze 2024  \n",
       "9    lewonożny   6 lip 2019    30 cze 2026  \n",
       "10   lewonożny  18 lip 2021    30 cze 2025  \n",
       "11  prawonożny   1 lip 2015    30 cze 2025  \n",
       "12  prawonożny   1 wrz 2022    30 cze 2023  \n",
       "13  prawonożny   1 lip 2022    30 cze 2025  \n",
       "14  prawonożny   8 lip 2021    30 cze 2027  \n",
       "15   lewonożny   4 sie 2019    30 cze 2027  \n",
       "16  prawonożny  30 sie 2021    30 cze 2023  \n",
       "17    obunożny   1 lip 2018    30 cze 2027  \n",
       "18  prawonożny   8 lip 2019    30 cze 2025  \n",
       "19  prawonożny   1 wrz 2022    30 cze 2023  \n",
       "20   lewonożny   2 sie 2022    30 cze 2027  \n",
       "21    obunożny  19 lip 2021    30 cze 2023  \n",
       "22  prawonożny  30 sie 2021    30 cze 2026  \n",
       "23  prawonożny   1 sie 2019    30 cze 2024  \n",
       "24  prawonożny  12 wrz 2020    30 cze 2025  \n",
       "25  prawonożny   1 wrz 2020    30 cze 2026  \n",
       "26   lewonożny   7 lip 2022    30 cze 2024  \n",
       "27  prawonożny   5 lip 2022    30 cze 2026  \n",
       "28   lewonożny  17 lip 2021    30 cze 2024  \n",
       "29  prawonożny   2 sty 2020    30 cze 2023  "
      ]
     },
     "execution_count": 10,
     "metadata": {},
     "output_type": "execute_result"
    }
   ],
   "source": [
    "df"
   ]
  },
  {
   "cell_type": "code",
   "execution_count": null,
   "id": "892cd20d",
   "metadata": {},
   "outputs": [],
   "source": [
    "type(data)"
   ]
  },
  {
   "cell_type": "code",
   "execution_count": 12,
   "id": "8d6eae50",
   "metadata": {},
   "outputs": [],
   "source": [
    "data_keys = data.keys()"
   ]
  },
  {
   "cell_type": "code",
   "execution_count": 21,
   "id": "935b2491",
   "metadata": {},
   "outputs": [
    {
     "data": {
      "text/plain": [
       "dict_keys(['name', 'data of birth', 'height', 'foot', 'joined', 'contract until'])"
      ]
     },
     "execution_count": 21,
     "metadata": {},
     "output_type": "execute_result"
    }
   ],
   "source": [
    "data_keys"
   ]
  },
  {
   "cell_type": "code",
   "execution_count": 13,
   "id": "e74db8d9",
   "metadata": {},
   "outputs": [],
   "source": [
    "new_2d_arr = np.array([data[i] for i in data_keys])"
   ]
  },
  {
   "cell_type": "code",
   "execution_count": 20,
   "id": "fdb8b95c",
   "metadata": {},
   "outputs": [
    {
     "data": {
      "text/plain": [
       "array(['\\n\\n\\n\\n \\n\\n\\n                Mike Maignan            \\n\\n\\n\\n\\n            Bramkarz        \\n\\n',\n",
       "       '3 lip 1995', '1,91m', 'prawonożny', '1 lip 2021', '30 cze 2026'],\n",
       "      dtype='<U101')"
      ]
     },
     "execution_count": 20,
     "metadata": {},
     "output_type": "execute_result"
    }
   ],
   "source": [
    "new_2d_arr[:,0]"
   ]
  },
  {
   "cell_type": "code",
   "execution_count": 15,
   "id": "e6222844",
   "metadata": {},
   "outputs": [],
   "source": [
    "trans = np.transpose(new_2d_arr)"
   ]
  },
  {
   "cell_type": "code",
   "execution_count": 16,
   "id": "7a35531c",
   "metadata": {},
   "outputs": [
    {
     "data": {
      "text/plain": [
       "array(['\\n\\n\\n\\n \\n\\n\\n                Mike Maignan            \\n\\n\\n\\n\\n            Bramkarz        \\n\\n',\n",
       "       '\\n\\n\\n\\n \\n\\n\\n                Ciprian Tatarusanu            \\n\\n\\n\\n\\n            Bramkarz        \\n\\n',\n",
       "       '\\n\\n\\n\\n \\n\\n\\n                Devis Vásquez            \\n\\n\\n\\n\\n            Bramkarz        \\n\\n',\n",
       "       '\\n\\n\\n\\n \\n\\n\\n                Antonio Mirante            \\n\\n\\n\\n\\n            Bramkarz        \\n\\n',\n",
       "       '\\n\\n\\n\\n \\n\\n\\n                Fikayo Tomori            \\n\\n\\n\\n\\n            Środkowy obrońca        \\n\\n',\n",
       "       '\\n\\n\\n\\n \\n\\n\\n                Pierre Kalulu            \\n\\n\\n\\n\\n            Środkowy obrońca        \\n\\n',\n",
       "       '\\n\\n\\n\\n \\n\\n\\n                Malick Thiaw            \\n\\n\\n\\n\\n            Środkowy obrońca        \\n\\n',\n",
       "       '\\n\\n\\n\\n \\n\\n\\n                Matteo Gabbia            \\n\\n\\n\\n\\n            Środkowy obrońca        \\n\\n',\n",
       "       '\\n\\n\\n\\n \\n\\n\\n                Simon Kjaer            \\n\\n\\n\\n\\n            Środkowy obrońca        \\n\\n',\n",
       "       '\\n\\n\\n\\n \\n\\n\\n                Theo Hernández            \\n\\n\\n\\n\\n            Lewy obrońca        \\n\\n',\n",
       "       '\\n\\n\\n\\n \\n\\n\\n                Fodé Ballo-Touré            \\n\\n\\n\\n\\n            Lewy obrońca        \\n\\n',\n",
       "       '\\n\\n\\n\\n \\n\\n\\n                Davide Calabria            \\n\\n\\n\\n\\n            Prawy obrońca        \\n\\n',\n",
       "       '\\n\\n\\n\\n \\n\\n\\n                Sergiño Dest            \\n\\n\\n\\n\\n            Prawy obrońca        \\n\\n',\n",
       "       '\\n\\n\\n\\n \\n\\n\\n                Alessandro Florenzi            \\n\\n\\n\\n\\n            Prawy obrońca        \\n\\n',\n",
       "       '\\n\\n\\n\\n \\n\\n\\n                Sandro Tonali            \\n\\n\\n\\n\\n            Defensywny pomocnik        \\n\\n',\n",
       "       '\\n\\n\\n\\n \\n\\n\\n                Ismaël Bennacer\\xa0 \\n\\n\\n\\n\\n            Defensywny pomocnik        \\n\\n',\n",
       "       '\\n\\n\\n\\n \\n\\n\\n                Tiemoué Bakayoko            \\n\\n\\n\\n\\n            Defensywny pomocnik        \\n\\n',\n",
       "       '\\n\\n\\n\\n \\n\\n\\n                Tommaso Pobega            \\n\\n\\n\\n\\n            Środkowy pomocnik        \\n\\n',\n",
       "       '\\n\\n\\n\\n \\n\\n\\n                Rade Krunic            \\n\\n\\n\\n\\n            Środkowy pomocnik        \\n\\n',\n",
       "       '\\n\\n\\n\\n \\n\\n\\n                Aster Vranckx            \\n\\n\\n\\n\\n            Środkowy pomocnik        \\n\\n',\n",
       "       '\\n\\n\\n\\n \\n\\n\\n                Charles De Ketelaere            \\n\\n\\n\\n\\n            Ofensywny pomocnik        \\n\\n',\n",
       "       '\\n\\n\\n\\n \\n\\n\\n                Brahim Díaz            \\n\\n\\n\\n\\n            Ofensywny pomocnik        \\n\\n',\n",
       "       '\\n\\n\\n\\n \\n\\n\\n                Yacine Adli            \\n\\n\\n\\n\\n            Ofensywny pomocnik        \\n\\n',\n",
       "       '\\n\\n\\n\\n \\n\\n\\n                Rafael Leão            \\n\\n\\n\\n\\n            Lewy napastnik        \\n\\n',\n",
       "       '\\n\\n\\n\\n \\n\\n\\n                Ante Rebic            \\n\\n\\n\\n\\n            Lewy napastnik        \\n\\n',\n",
       "       '\\n\\n\\n\\n \\n\\n\\n                Alexis Saelemaekers            \\n\\n\\n\\n\\n            Prawy napastnik        \\n\\n',\n",
       "       '\\n\\n\\n\\n \\n\\n\\n                Junior Messias            \\n\\n\\n\\n\\n            Prawy napastnik        \\n\\n',\n",
       "       '\\n\\n\\n\\n \\n\\n\\n                Divock Origi            \\n\\n\\n\\n\\n            Środkowy napastnik        \\n\\n',\n",
       "       '\\n\\n\\n\\n \\n\\n\\n                Olivier Giroud            \\n\\n\\n\\n\\n            Środkowy napastnik        \\n\\n',\n",
       "       '\\n\\n\\n\\n \\n\\n\\n                Zlatan Ibrahimović            \\n\\n\\n\\n\\n            Środkowy napastnik        \\n\\n'],\n",
       "      dtype='<U101')"
      ]
     },
     "execution_count": 16,
     "metadata": {},
     "output_type": "execute_result"
    }
   ],
   "source": [
    "trans[:,0]"
   ]
  },
  {
   "cell_type": "code",
   "execution_count": null,
   "id": "be0e89d7",
   "metadata": {},
   "outputs": [],
   "source": [
    "split = np.char.split(trans[:,0])"
   ]
  },
  {
   "cell_type": "code",
   "execution_count": null,
   "id": "e9db254c",
   "metadata": {},
   "outputs": [],
   "source": [
    "split[1]"
   ]
  },
  {
   "cell_type": "code",
   "execution_count": null,
   "id": "e8ba3e81",
   "metadata": {},
   "outputs": [],
   "source": [
    "excluded_positions = [\"Bramkarz\",\"Środkowy\",\"obrońca\",\"Ofensywny\",\"pomocnik\",\"Defensywny\",\"napastnik\",\"Lewy\",\"Prawy\",\"Cofnięty\"]"
   ]
  },
  {
   "cell_type": "code",
   "execution_count": null,
   "id": "c8184004",
   "metadata": {},
   "outputs": [],
   "source": [
    "list_name = []"
   ]
  },
  {
   "cell_type": "code",
   "execution_count": null,
   "id": "70c7ed65",
   "metadata": {},
   "outputs": [],
   "source": [
    "for row in split:\n",
    "    combined_name = ' '.join([name for name in row if name not in excluded_positions])\n",
    "    list_name.append(combined_name)"
   ]
  },
  {
   "cell_type": "code",
   "execution_count": null,
   "id": "d4475eeb",
   "metadata": {
    "scrolled": true
   },
   "outputs": [],
   "source": [
    "list_name"
   ]
  },
  {
   "cell_type": "code",
   "execution_count": null,
   "id": "69aa3d24",
   "metadata": {},
   "outputs": [],
   "source": [
    "cleandata = trans[:,1:]"
   ]
  },
  {
   "cell_type": "code",
   "execution_count": null,
   "id": "9326d686",
   "metadata": {},
   "outputs": [],
   "source": [
    "df = pd.DataFrame(cleandata)"
   ]
  },
  {
   "cell_type": "code",
   "execution_count": null,
   "id": "1e50bd3b",
   "metadata": {},
   "outputs": [],
   "source": [
    "name = np.chararray.strip(list_name)"
   ]
  },
  {
   "cell_type": "code",
   "execution_count": null,
   "id": "d8fa80a5",
   "metadata": {},
   "outputs": [],
   "source": [
    "name"
   ]
  },
  {
   "cell_type": "code",
   "execution_count": null,
   "id": "e3bc25a5",
   "metadata": {},
   "outputs": [],
   "source": [
    "list_position = [[x for x in row if x in excluded_positions] for row in split]"
   ]
  },
  {
   "cell_type": "code",
   "execution_count": null,
   "id": "d80fbcab",
   "metadata": {},
   "outputs": [],
   "source": [
    "list_position"
   ]
  },
  {
   "cell_type": "code",
   "execution_count": null,
   "id": "94a4f3df",
   "metadata": {},
   "outputs": [],
   "source": [
    "new_list_position = []\n",
    "\n",
    "for item in list_position:\n",
    "    if type(item) == list:\n",
    "        if len(item) == 2:\n",
    "            new_item = ' '.join(item)\n",
    "            new_list_position.append(new_item)\n",
    "        else:\n",
    "            new_list_position.extend(item)\n",
    "        \n",
    "    "
   ]
  },
  {
   "cell_type": "code",
   "execution_count": null,
   "id": "d666d321",
   "metadata": {},
   "outputs": [],
   "source": [
    "new_list_position"
   ]
  },
  {
   "cell_type": "code",
   "execution_count": null,
   "id": "22baed71",
   "metadata": {},
   "outputs": [],
   "source": [
    "position = np.array(new_list_position)"
   ]
  },
  {
   "cell_type": "code",
   "execution_count": null,
   "id": "b7c05bc4",
   "metadata": {},
   "outputs": [],
   "source": [
    "position"
   ]
  },
  {
   "cell_type": "code",
   "execution_count": null,
   "id": "ae22442e",
   "metadata": {},
   "outputs": [],
   "source": [
    "club = [club_name] * len(name)"
   ]
  },
  {
   "cell_type": "code",
   "execution_count": null,
   "id": "a02a8336",
   "metadata": {},
   "outputs": [],
   "source": [
    "cleaned_data = np.column_stack((name, new_list_position,countries, cleandata,club))"
   ]
  },
  {
   "cell_type": "code",
   "execution_count": null,
   "id": "b5320bf2",
   "metadata": {},
   "outputs": [],
   "source": [
    "header_columns = [\"Imie i Nazwisko\",\"Pozycja\",\"Narodowość\",\"Rok urodzenia\",\"Wzrost\",\"Lepsza noga\",\"W drużynie od\",\"Kontrakt\", \"Klub\"]"
   ]
  },
  {
   "cell_type": "code",
   "execution_count": null,
   "id": "a9e3d16c",
   "metadata": {},
   "outputs": [],
   "source": [
    "df = pd.DataFrame(cleaned_data)"
   ]
  },
  {
   "cell_type": "code",
   "execution_count": null,
   "id": "8912b0b2",
   "metadata": {
    "scrolled": true
   },
   "outputs": [],
   "source": [
    "df"
   ]
  },
  {
   "cell_type": "code",
   "execution_count": null,
   "id": "38609637",
   "metadata": {},
   "outputs": [],
   "source": [
    "directory_file_csv = os.path.join(os.getcwd(), \"club_data.csv\")\n",
    "\n",
    "if os.path.isfile(directory_file_csv):\n",
    "    df.to_csv('club_data.csv', mode='a', index=False, header=False)\n",
    "else:\n",
    "    df.to_csv(\"club_data.csv\", index = False)"
   ]
  },
  {
   "cell_type": "code",
   "execution_count": null,
   "id": "57682d10",
   "metadata": {},
   "outputs": [],
   "source": [
    "#remove = pd.read_csv('club_data.csv')\n",
    "#remove = remove.drop(remove.index[93:])\n",
    "#usuwanko.to_csv('club_data.csv')\n",
    "#pd.options.display.max_columns = None\n",
    "#pd.options.display.max_rows = None"
   ]
  },
  {
   "cell_type": "code",
   "execution_count": null,
   "id": "21166f1a",
   "metadata": {},
   "outputs": [],
   "source": [
    "data = pd.read_csv(\"club_data.csv\")"
   ]
  },
  {
   "cell_type": "code",
   "execution_count": null,
   "id": "65d176b3",
   "metadata": {},
   "outputs": [],
   "source": [
    "data.columns = header_columns"
   ]
  },
  {
   "cell_type": "code",
   "execution_count": null,
   "id": "126c9f54",
   "metadata": {
    "scrolled": true
   },
   "outputs": [],
   "source": [
    "data"
   ]
  },
  {
   "cell_type": "code",
   "execution_count": null,
   "id": "b895e913",
   "metadata": {},
   "outputs": [],
   "source": []
  }
 ],
 "metadata": {
  "kernelspec": {
   "display_name": "Python 3 (ipykernel)",
   "language": "python",
   "name": "python3"
  },
  "language_info": {
   "codemirror_mode": {
    "name": "ipython",
    "version": 3
   },
   "file_extension": ".py",
   "mimetype": "text/x-python",
   "name": "python",
   "nbconvert_exporter": "python",
   "pygments_lexer": "ipython3",
   "version": "3.10.9"
  }
 },
 "nbformat": 4,
 "nbformat_minor": 5
}
